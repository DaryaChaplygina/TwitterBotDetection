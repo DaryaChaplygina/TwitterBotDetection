{
 "cells": [
  {
   "cell_type": "code",
   "execution_count": 1,
   "metadata": {
    "collapsed": true
   },
   "outputs": [],
   "source": [
    "from model_learning.time_series_model import TimeSeriesModel"
   ]
  },
  {
   "cell_type": "code",
   "execution_count": 2,
   "metadata": {},
   "outputs": [],
   "source": [
    "tsm = TimeSeriesModel(\"Datasets/cresci-2017/timeseries_features.csv\")\n",
    "results = tsm.run_model()"
   ]
  },
  {
   "cell_type": "code",
   "execution_count": 3,
   "metadata": {},
   "outputs": [
    {
     "name": "stdout",
     "output_type": "stream",
     "text": [
      "precision: 0.6506\n",
      "recall: 0.9876\n",
      "f1: 0.7845\n"
     ]
    }
   ],
   "source": [
    "results_labels = [\"precision\", \"recall\", \"f1\"]\n",
    "for i in range(3):\n",
    "    print(\"{}: {:.4f}\".format(results_labels[i], results[i][1]))"
   ]
  }
 ],
 "metadata": {
  "kernelspec": {
   "display_name": "Python 3",
   "language": "python",
   "name": "python3"
  },
  "language_info": {
   "codemirror_mode": {
    "name": "ipython",
    "version": 3
   },
   "file_extension": ".py",
   "mimetype": "text/x-python",
   "name": "python",
   "nbconvert_exporter": "python",
   "pygments_lexer": "ipython3",
   "version": "3.6.1"
  }
 },
 "nbformat": 4,
 "nbformat_minor": 2
}
